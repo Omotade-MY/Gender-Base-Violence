{
 "cells": [
  {
   "cell_type": "markdown",
   "id": "3ee15330-9234-4c47-a957-6af428b42974",
   "metadata": {},
   "source": [
    "### Importing Necessary Libraries"
   ]
  },
  {
   "cell_type": "code",
   "execution_count": 3,
   "id": "04d378d8-8f4c-42bf-b3aa-3cd17e528d2b",
   "metadata": {},
   "outputs": [
    {
     "name": "stderr",
     "output_type": "stream",
     "text": [
      "C:\\Users\\MUHAMMAD\\anaconda3\\envs\\KerasEnvironment\\lib\\site-packages\\gensim\\similarities\\__init__.py:15: UserWarning: The gensim.similarities.levenshtein submodule is disabled, because the optional Levenshtein package <https://pypi.org/project/python-Levenshtein/> is unavailable. Install Levenhstein (e.g. `pip install python-Levenshtein`) to suppress this warning.\n",
      "  warnings.warn(msg)\n"
     ]
    }
   ],
   "source": [
    "import pandas as pd\n",
    "import numpy as np\n",
    "import matplotlib.pyplot as plt\n",
    "import seaborn as sns\n",
    "from lightgbm import LGBMClassifier\n",
    "from xgboost import XGBClassifier\n",
    "from sklearn.ensemble import GradientBoostingClassifier, RandomForestClassifier, BaggingClassifier,VotingClassifier,StackingClassifier\n",
    "from sklearn.feature_extraction.text import CountVectorizer, TfidfVectorizer\n",
    "from sklearn.model_selection import train_test_split, StratifiedKFold, KFold\n",
    "from sklearn.naive_bayes import MultinomialNB\n",
    "from sklearn.svm import SVC\n",
    "from sklearn.neighbors import KNeighborsClassifier\n",
    "from sklearn.linear_model import LogisticRegression\n",
    "from sklearn.pipeline import Pipeline\n",
    "from sklearn.preprocessing import LabelEncoder\n",
    "from sklearn.metrics import accuracy_score\n",
    "from keras.models import Sequential\n",
    "from keras.layers import Dense, Dropout, Conv1D\n",
    "import gensim\n",
    "import spacy\n",
    "import nltk"
   ]
  },
  {
   "cell_type": "markdown",
   "id": "59473d35-8b4b-429d-bb2b-325574aa94f0",
   "metadata": {},
   "source": [
    "##### Load the files\n"
   ]
  },
  {
   "cell_type": "code",
   "execution_count": 4,
   "id": "7479e955-8566-4d62-88f9-b766c17193cc",
   "metadata": {},
   "outputs": [],
   "source": [
    "Train = pd.read_csv('Train.csv')\n",
    "Test = pd.read_csv('Test.csv')\n",
    "ss = pd.read_csv('SampleSubmission.csv')"
   ]
  },
  {
   "cell_type": "code",
   "execution_count": 5,
   "id": "66ce5035-e892-4661-9fbc-a72d871e0988",
   "metadata": {},
   "outputs": [
    {
     "data": {
      "text/html": [
       "<div>\n",
       "<style scoped>\n",
       "    .dataframe tbody tr th:only-of-type {\n",
       "        vertical-align: middle;\n",
       "    }\n",
       "\n",
       "    .dataframe tbody tr th {\n",
       "        vertical-align: top;\n",
       "    }\n",
       "\n",
       "    .dataframe thead th {\n",
       "        text-align: right;\n",
       "    }\n",
       "</style>\n",
       "<table border=\"1\" class=\"dataframe\">\n",
       "  <thead>\n",
       "    <tr style=\"text-align: right;\">\n",
       "      <th></th>\n",
       "      <th>Tweet_ID</th>\n",
       "      <th>tweet</th>\n",
       "      <th>type</th>\n",
       "    </tr>\n",
       "  </thead>\n",
       "  <tbody>\n",
       "    <tr>\n",
       "      <th>0</th>\n",
       "      <td>ID_0022DWKP</td>\n",
       "      <td>Had a dream i got raped last night. By a guy i...</td>\n",
       "      <td>sexual_violence</td>\n",
       "    </tr>\n",
       "    <tr>\n",
       "      <th>1</th>\n",
       "      <td>ID_00395QYM</td>\n",
       "      <td>he thought the word raped means sex and told m...</td>\n",
       "      <td>sexual_violence</td>\n",
       "    </tr>\n",
       "    <tr>\n",
       "      <th>2</th>\n",
       "      <td>ID_003EOSSF</td>\n",
       "      <td>She NOT TALKING TO ME I WAS RAPED BY 2 MEN 1 M...</td>\n",
       "      <td>sexual_violence</td>\n",
       "    </tr>\n",
       "    <tr>\n",
       "      <th>3</th>\n",
       "      <td>ID_004BBHOD</td>\n",
       "      <td>I was sexually abused for 3 years at age 4 to ...</td>\n",
       "      <td>sexual_violence</td>\n",
       "    </tr>\n",
       "    <tr>\n",
       "      <th>4</th>\n",
       "      <td>ID_004F7516</td>\n",
       "      <td>Chessy Prout can do better by telling the trut...</td>\n",
       "      <td>sexual_violence</td>\n",
       "    </tr>\n",
       "  </tbody>\n",
       "</table>\n",
       "</div>"
      ],
      "text/plain": [
       "      Tweet_ID                                              tweet  \\\n",
       "0  ID_0022DWKP  Had a dream i got raped last night. By a guy i...   \n",
       "1  ID_00395QYM  he thought the word raped means sex and told m...   \n",
       "2  ID_003EOSSF  She NOT TALKING TO ME I WAS RAPED BY 2 MEN 1 M...   \n",
       "3  ID_004BBHOD  I was sexually abused for 3 years at age 4 to ...   \n",
       "4  ID_004F7516  Chessy Prout can do better by telling the trut...   \n",
       "\n",
       "              type  \n",
       "0  sexual_violence  \n",
       "1  sexual_violence  \n",
       "2  sexual_violence  \n",
       "3  sexual_violence  \n",
       "4  sexual_violence  "
      ]
     },
     "execution_count": 5,
     "metadata": {},
     "output_type": "execute_result"
    }
   ],
   "source": [
    "Train.head()"
   ]
  },
  {
   "cell_type": "code",
   "execution_count": 6,
   "id": "49986c37-c8c2-45e4-9072-7477ac36147b",
   "metadata": {},
   "outputs": [],
   "source": [
    "def seed_all(seed=42):\n",
    "    import random\n",
    "    from tensorflow.random import set_seed\n",
    "    seed = 42\n",
    "    random.seed(seed)\n",
    "    np.random.seed(seed)\n",
    "    set_seed(seed)"
   ]
  },
  {
   "cell_type": "markdown",
   "id": "f4fef872-7969-4330-880f-e1162c419a2b",
   "metadata": {},
   "source": [
    "## EDA\n"
   ]
  },
  {
   "cell_type": "code",
   "execution_count": 7,
   "id": "daea7bc1-5a3e-444b-a525-57d72cc525d1",
   "metadata": {},
   "outputs": [],
   "source": [
    "data = pd.concat([Train,Test])"
   ]
  },
  {
   "cell_type": "code",
   "execution_count": 8,
   "id": "c0701882-b292-4948-8b55-d93e7936ffc4",
   "metadata": {},
   "outputs": [
    {
     "data": {
      "text/plain": [
       "((39650, 3), (15581, 2))"
      ]
     },
     "execution_count": 8,
     "metadata": {},
     "output_type": "execute_result"
    }
   ],
   "source": [
    "Train.shape, Test.shape"
   ]
  },
  {
   "cell_type": "code",
   "execution_count": 9,
   "id": "eb0ac286-106c-46b1-94c3-1cfdf7f9d8d7",
   "metadata": {},
   "outputs": [
    {
     "name": "stderr",
     "output_type": "stream",
     "text": [
      "C:\\Users\\MUHAMMAD\\anaconda3\\envs\\KerasEnvironment\\lib\\site-packages\\seaborn\\_decorators.py:36: FutureWarning: Pass the following variable as a keyword arg: x. From version 0.12, the only valid positional argument will be `data`, and passing other arguments without an explicit keyword will result in an error or misinterpretation.\n",
      "  warnings.warn(\n"
     ]
    },
    {
     "data": {
      "text/plain": [
       "<AxesSubplot:xlabel='type', ylabel='count'>"
      ]
     },
     "execution_count": 9,
     "metadata": {},
     "output_type": "execute_result"
    },
    {
     "data": {
      "image/png": "[encoded data removed]",
      "text/plain": [
       "<Figure size 864x576 with 1 Axes>"
      ]
     },
     "metadata": {
      "needs_background": "light"
     },
     "output_type": "display_data"
    }
   ],
   "source": [
    "plt.figure(figsize=(12,8))\n",
    "sns.countplot(data['type'])"
   ]
  },
  {
   "cell_type": "code",
   "execution_count": 8,
   "id": "0ad1baff-fd7a-44d1-9ee3-19292a612eee",
   "metadata": {},
   "outputs": [
    {
     "data": {
      "text/plain": [
       "sexual_violence                 0.823405\n",
       "Physical_violence               0.149962\n",
       "emotional_violence              0.016419\n",
       "economic_violence               0.005473\n",
       "Harmful_Traditional_practice    0.004741\n",
       "Name: type, dtype: float64"
      ]
     },
     "execution_count": 8,
     "metadata": {},
     "output_type": "execute_result"
    }
   ],
   "source": [
    "data['type'].value_counts(normalize=True)"
   ]
  },
  {
   "cell_type": "markdown",
   "id": "073c0533-2ba4-44bb-a2b6-3729f16f66c8",
   "metadata": {},
   "source": [
    "### Preprocessing"
   ]
  },
  {
   "cell_type": "code",
   "execution_count": 9,
   "id": "f0f7e1e7-ae22-4cd0-a0e4-8b56e68a62c9",
   "metadata": {},
   "outputs": [],
   "source": [
    "from sklearn.utils import resample\n",
    "from sklearn.base import TransformerMixin\n",
    "from math import ceil\n",
    "class OverSample(TransformerMixin):\n",
    "    def __init__(self, major_cat, category):\n",
    "        self.category = category\n",
    "        self.major_cat = major_cat\n",
    "    def fit_transform(self, df, y=None):\n",
    "        X = df.copy()\n",
    "        major = self.major_cat\n",
    "        len_major = X[X['type']== major].shape[0]\n",
    "        df1 = X[X['type']== major]\n",
    "        for cat in self.category:\n",
    "            cat_df = X[X['type']==cat]\n",
    "            resample_df = resample(cat_df, n_samples=len_major, replace=True, random_state=42)\n",
    "            df1 = pd.concat([df1[df1['type'] != cat],resample_df])\n",
    "        resampled = df1.values\n",
    "        \"\"\"for cat in resample_df.columns:\n",
    "            len_cat = resample_df[resample_df['type']==cat].shape[0] \n",
    "            if len_cat > 0.5 * len_major:\n",
    "                n_drop = len_cat - len_major\"\"\"\n",
    "        np.random.shuffle(resampled)\n",
    "        return pd.DataFrame(resampled, columns=X.columns)"
   ]
  },
  {
   "cell_type": "code",
   "execution_count": 11,
   "id": "b9d1b7c0-8837-4746-9b0d-1e8aa1e4f172",
   "metadata": {},
   "outputs": [],
   "source": [
    "oversample = OverSample('sexual_violence', category=Train['type'].unique()[1:])\n",
    "Train_df = oversample.fit_transform(Train)"
   ]
  },
  {
   "cell_type": "code",
   "execution_count": 122,
   "id": "4b0fc71f-eb5f-4a81-b6a7-555f6d29e0af",
   "metadata": {},
   "outputs": [
    {
     "name": "stderr",
     "output_type": "stream",
     "text": [
      "C:\\Users\\MUHAMMAD\\anaconda3\\envs\\KerasEnvironment\\lib\\site-packages\\seaborn\\_decorators.py:36: FutureWarning: Pass the following variable as a keyword arg: x. From version 0.12, the only valid positional argument will be `data`, and passing other arguments without an explicit keyword will result in an error or misinterpretation.\n",
      "  warnings.warn(\n"
     ]
    },
    {
     "data": {
      "text/plain": [
       "<AxesSubplot:xlabel='type', ylabel='count'>"
      ]
     },
     "execution_count": 122,
     "metadata": {},
     "output_type": "execute_result"
    },
    {
     "data": {
      "image/png": "[encoded data removed]",
      "text/plain": [
       "<Figure size 432x288 with 1 Axes>"
      ]
     },
     "metadata": {
      "needs_background": "light"
     },
     "output_type": "display_data"
    }
   ],
   "source": [
    "sns.countplot(Train_df['type'])"
   ]
  },
  {
   "cell_type": "code",
   "execution_count": 124,
   "id": "4c32abaf-7163-4a9f-b8f1-9b11a38fcec9",
   "metadata": {},
   "outputs": [
    {
     "data": {
      "text/plain": [
       "(163240, 3)"
      ]
     },
     "execution_count": 124,
     "metadata": {},
     "output_type": "execute_result"
    }
   ],
   "source": [
    "Train_df.shape"
   ]
  },
  {
   "cell_type": "code",
   "execution_count": 106,
   "id": "2f18f2e4-72de-4881-8046-87d68f442500",
   "metadata": {},
   "outputs": [
    {
     "name": "stderr",
     "output_type": "stream",
     "text": [
      "C:\\Users\\MUHAMMAD\\anaconda3\\envs\\KerasEnvironment\\lib\\site-packages\\seaborn\\_decorators.py:36: FutureWarning: Pass the following variable as a keyword arg: x. From version 0.12, the only valid positional argument will be `data`, and passing other arguments without an explicit keyword will result in an error or misinterpretation.\n",
      "  warnings.warn(\n"
     ]
    },
    {
     "data": {
      "text/plain": [
       "<AxesSubplot:xlabel='type', ylabel='count'>"
      ]
     },
     "execution_count": 106,
     "metadata": {},
     "output_type": "execute_result"
    },
    {
     "data": {
      "image/png": "[encoded data removed]",
      "text/plain": [
       "<Figure size 1008x576 with 1 Axes>"
      ]
     },
     "metadata": {
      "needs_background": "light"
     },
     "output_type": "display_data"
    }
   ],
   "source": [
    "plt.figure(figsize=(14,8))\n",
    "sns.countplot(Train_df['type'])"
   ]
  },
  {
   "cell_type": "code",
   "execution_count": 10,
   "id": "080a19bc-4581-4284-ba55-ceddf54adab8",
   "metadata": {},
   "outputs": [],
   "source": [
    "tfidf = TfidfVectorizer()\n",
    "tfidf.fit(Train['tweet'])\n",
    "vectorized_train = tfidf.transform(Train['tweet'])\n",
    "vectorized_test = tfidf.transform(Test['tweet'])"
   ]
  },
  {
   "cell_type": "code",
   "execution_count": 21,
   "id": "f3b617d2-7788-4f8e-8ea9-f77772f44e9e",
   "metadata": {},
   "outputs": [],
   "source": [
    "#X_sampled, y_sampled = oversample.fit_resample(vectorized_train,Train['type'])"
   ]
  },
  {
   "cell_type": "code",
   "execution_count": 24,
   "id": "f18d7f07-d9d6-4d0f-bc24-c1eaacf8f2e9",
   "metadata": {},
   "outputs": [
    {
     "name": "stderr",
     "output_type": "stream",
     "text": [
      "C:\\Users\\MUHAMMAD\\anaconda3\\envs\\KerasEnvironment\\lib\\site-packages\\seaborn\\_decorators.py:36: FutureWarning: Pass the following variable as a keyword arg: x. From version 0.12, the only valid positional argument will be `data`, and passing other arguments without an explicit keyword will result in an error or misinterpretation.\n",
      "  warnings.warn(\n"
     ]
    },
    {
     "data": {
      "text/plain": [
       "<AxesSubplot:xlabel='type', ylabel='count'>"
      ]
     },
     "execution_count": 24,
     "metadata": {},
     "output_type": "execute_result"
    },
    {
     "data": {
      "image/png": "[encoded data removed]",
      "text/plain": [
       "<Figure size 432x288 with 1 Axes>"
      ]
     },
     "metadata": {
      "needs_background": "light"
     },
     "output_type": "display_data"
    }
   ],
   "source": [
    "sns.countplot(y_sampled)"
   ]
  },
  {
   "cell_type": "code",
   "execution_count": null,
   "id": "ad2db898-362b-4b7f-8c10-d7d50d755aac",
   "metadata": {},
   "outputs": [],
   "source": []
  },
  {
   "cell_type": "code",
   "execution_count": 40,
   "id": "096041f8-b88f-4ba3-a517-e3df8007e3ef",
   "metadata": {},
   "outputs": [
    {
     "data": {
      "text/plain": [
       "<39650x37282 sparse matrix of type '<class 'numpy.float64'>'\n",
       "\twith 1230816 stored elements in Compressed Sparse Row format>"
      ]
     },
     "execution_count": 40,
     "metadata": {},
     "output_type": "execute_result"
    }
   ],
   "source": [
    "vectorized_train"
   ]
  },
  {
   "cell_type": "code",
   "execution_count": 11,
   "id": "4bf5b9a3-2d0e-4b32-b021-3faca4f0271d",
   "metadata": {},
   "outputs": [],
   "source": [
    "target = Train['type']\n",
    "encoder = LabelEncoder()\n",
    "target = encoder.fit_transform(target)"
   ]
  },
  {
   "cell_type": "code",
   "execution_count": 12,
   "id": "cb0f1dca-3b61-48c4-b266-f5e46c468733",
   "metadata": {},
   "outputs": [
    {
     "name": "stderr",
     "output_type": "stream",
     "text": [
      "C:\\Users\\MUHAMMAD\\anaconda3\\envs\\KerasEnvironment\\lib\\site-packages\\seaborn\\_decorators.py:36: FutureWarning: Pass the following variable as a keyword arg: x. From version 0.12, the only valid positional argument will be `data`, and passing other arguments without an explicit keyword will result in an error or misinterpretation.\n",
      "  warnings.warn(\n"
     ]
    },
    {
     "data": {
      "text/plain": [
       "<AxesSubplot:ylabel='count'>"
      ]
     },
     "execution_count": 12,
     "metadata": {},
     "output_type": "execute_result"
    },
    {
     "data": {
      "image/png": "[encoded data removed]",
      "text/plain": [
       "<Figure size 432x288 with 1 Axes>"
      ]
     },
     "metadata": {
      "needs_background": "light"
     },
     "output_type": "display_data"
    }
   ],
   "source": [
    "sns.countplot(target)"
   ]
  },
  {
   "cell_type": "code",
   "execution_count": 13,
   "id": "bf10e88a-2427-4b1b-b604-f911b579e250",
   "metadata": {},
   "outputs": [],
   "source": [
    "encode_map = {code:label_ for code,label_ in enumerate(encoder.classes_)}"
   ]
  },
  {
   "cell_type": "code",
   "execution_count": 60,
   "id": "2940503e-a023-4f50-92c7-5dd626a628ee",
   "metadata": {},
   "outputs": [
    {
     "data": {
      "text/plain": [
       "{0: 'Harmful_Traditional_practice',\n",
       " 1: 'Physical_violence',\n",
       " 2: 'economic_violence',\n",
       " 3: 'emotional_violence',\n",
       " 4: 'sexual_violence'}"
      ]
     },
     "execution_count": 60,
     "metadata": {},
     "output_type": "execute_result"
    }
   ],
   "source": [
    "encode_map"
   ]
  },
  {
   "cell_type": "code",
   "execution_count": 44,
   "id": "0c6406a8-e5c2-4d64-953a-9f202c3a5edf",
   "metadata": {},
   "outputs": [
    {
     "data": {
      "text/plain": [
       "array(['Harmful_Traditional_practice', 'Physical_violence',\n",
       "       'economic_violence', 'emotional_violence', 'sexual_violence'],\n",
       "      dtype=object)"
      ]
     },
     "execution_count": 44,
     "metadata": {},
     "output_type": "execute_result"
    }
   ],
   "source": [
    "encoder.classes_"
   ]
  },
  {
   "cell_type": "markdown",
   "id": "71122089-fcd7-4f1b-8d76-92445bbf27bb",
   "metadata": {},
   "source": [
    "what kind of words appear most in each type of tweet"
   ]
  },
  {
   "cell_type": "code",
   "execution_count": 14,
   "id": "de9db74d-efd7-41c4-9d49-d9a365e3f9cf",
   "metadata": {},
   "outputs": [],
   "source": [
    "import string\n",
    "from nltk.corpus import stopwords\n",
    "punctuation = string.punctuation\n",
    "st_words = stopwords.words('english')\n",
    "\n",
    "excludes = list(punctuation) + st_words"
   ]
  },
  {
   "cell_type": "code",
   "execution_count": 15,
   "id": "4098d470-4462-4e86-afd9-279cac152efd",
   "metadata": {},
   "outputs": [],
   "source": [
    "from nltk.stem import WordNetLemmatizer\n",
    "lemmatize = WordNetLemmatizer().lemmatize"
   ]
  },
  {
   "cell_type": "code",
   "execution_count": 47,
   "id": "62c1e09c-dd1c-4f88-8cb8-5dee97c35a35",
   "metadata": {},
   "outputs": [],
   "source": [
    "# get the most common word accros tweets of the same type\n",
    "from nltk.stem import WordNetLemmatizer\n",
    "lemmatize = WordNetLemmatizer().lemmatize\n",
    "def get_most_common(df,type_,n_words=None):\n",
    "    \n",
    "    X = df.copy()\n",
    "    X_type_ = X[X['type'] == type_]\n",
    "    tweets = list(X_type_['tweet'].values)\n",
    "    text = nltk.word_tokenize(' '.join(tweets).lower())\n",
    "    dist = nltk.FreqDist(text)\n",
    "    word_freq = [(word,dist[word]) for word in dist.keys() if word.isalpha()]\n",
    "    freq = np.array([word[1] for word in word_freq])\n",
    "    print(freq.sum())\n",
    "    mean = freq.mean()\n",
    "    std = freq.std()\n",
    "    if std == 0:\n",
    "        std = mean\n",
    "        \n",
    "    word_zscore = []\n",
    "    for word in word_freq: \n",
    "        zscore = round((dist[word[0]]-mean/std),4)\n",
    "        word_zscore.append((word[0],word[1],zscore)) \n",
    "    \n",
    "    if n_words == None:\n",
    "        n_words = len(word_freq)\n",
    "        \n",
    "    return sorted(word_zscore, key=lambda x: x[1], reverse=True)[:n_words]\n",
    "    "
   ]
  },
  {
   "cell_type": "code",
   "execution_count": 48,
   "id": "a9942bbb-16ae-4b88-8138-6b097cb94e0e",
   "metadata": {},
   "outputs": [],
   "source": [
    "def flag(df,n_words=3):\n",
    "    X = df.copy()\n",
    "    X['flag'] = 0\n",
    "    most_common = {} \n",
    "    types_ = df['type'].unique()\n",
    "    for type_ in types_:\n",
    "        common_words =  get_most_common(df,type_,n_words)\n",
    "        most_common[type_] = [word[0] for word in common_words]\n",
    "    \n",
    "    i = 0\n",
    "    for row in X.iterrows():\n",
    "        \n",
    "        flags = []\n",
    "        text = row[1]['tweet']\n",
    "        for type_ in types_:\n",
    "            \n",
    "            common_ = most_common[type_]\n",
    "            for word in common_:\n",
    "\n",
    "                if word in text.lower():\n",
    "                    flags.append(type_)\n",
    "                i += 1\n",
    "        \n",
    "        X['flag'].iloc[row[0]] = list(set(flags))\n",
    "        \n",
    "    return X"
   ]
  },
  {
   "cell_type": "code",
   "execution_count": 49,
   "id": "1dcd8d84-2dfc-4115-ab27-bfe414d9b76f",
   "metadata": {},
   "outputs": [],
   "source": [
    "import string\n",
    "from nltk.corpus import stopwords\n",
    "punctuation = string.punctuation\n",
    "st_words = stopwords.words('english')\n",
    "\n",
    "excludes = list(punctuation) + st_words\n",
    "\n",
    "class FlagTweets():\n",
    "    def __init__(self,labels, n_words=3):\n",
    "        self.labels = labels\n",
    "        self.n_words  = n_words # no of most common Words to return\n",
    "        self.fracs = {} # z-score of word frequency\n",
    "        \n",
    "        \n",
    "    # get the most common word accros tweets of the same type\n",
    "    def _get_most_common(self,df,type_,n_words=None):\n",
    "\n",
    "        X = df.copy()\n",
    "        X_type_ = X[X['type'] == type_]\n",
    "        tweets = list(X_type_['tweet'].values)\n",
    "        text = nltk.word_tokenize(' '.join(tweets).lower())\n",
    "        dist = nltk.FreqDist(text)\n",
    "        word_freq = [(word,dist[word]) for word in dist.keys() if word.lower() not in excludes and word.isalpha()]\n",
    "        freq = np.array([word[1] for word in word_freq])\n",
    "        freq_sum = freq.sum()\n",
    "        #std = freq.std()\n",
    "        #if std == 0:\n",
    "        #    std = mean\n",
    "\n",
    "        word_frac = []\n",
    "        for word in word_freq: \n",
    "            #zscore = round((dist[word[0]]-mean/std),4)\n",
    "            frac = round((dist[word[0]]/freq_sum),4)\n",
    "            word_frac.append((word[0],word[1],frac))\n",
    "\n",
    "        if n_words == None:\n",
    "            n_words = len(word_freq)\n",
    "                             \n",
    "        self.fracs[type_] = word_frac\n",
    "        return sorted(word_frac, key=lambda x: x[1], reverse=True)[:n_words]\n",
    "    \n",
    "    def fit(self,df,y=None):\n",
    "        X = df.copy()\n",
    "        \n",
    "        most_common = {} \n",
    "        types_ = self.labels\n",
    "        for type_ in types_:\n",
    "            common_words =  self._get_most_common(X,type_,self.n_words)\n",
    "            most_common[type_] = [(word[0],word[2]) for word in common_words]\n",
    "        self.n_common = most_common\n",
    "        \n",
    "        return self\n",
    "    \n",
    "    def predict(self,df):\n",
    "        X = df.copy()\n",
    "        X['flags'] = 'Unknown'\n",
    "        for row in X.iterrows():\n",
    "        \n",
    "            flags = []\n",
    "            \n",
    "            text = row[1]['tweet']\n",
    "            for type_ in self.labels:\n",
    "\n",
    "                common_ = self.n_common[type_]\n",
    "                for word in common_:\n",
    "                    \n",
    "                    if word[0] in text.lower():\n",
    "                        flags.append((type_,word[1]))\n",
    "            flags =  list(set(flags))           \n",
    "            if len(flags) > 1:\n",
    "                likely = max(flags, key=lambda x: x[1])\n",
    "                flag = likely[0]\n",
    "            elif len(flags) == 1:\n",
    "                flag = flags[0][0]\n",
    "                \n",
    "            X['flags'].iloc[row[0]] = flag\n",
    "        \n",
    "        return X\n",
    "            \n"
   ]
  },
  {
   "cell_type": "code",
   "execution_count": 50,
   "id": "66dadae3-6d14-4996-9fe1-1b3eaedf47d4",
   "metadata": {},
   "outputs": [
    {
     "data": {
      "text/plain": [
       "<__main__.FlagTweets at 0x1c656620760>"
      ]
     },
     "execution_count": 50,
     "metadata": {},
     "output_type": "execute_result"
    }
   ],
   "source": [
    "flag = FlagTweets(Train['type'].unique(), 10)\n",
    "flag.fit(Train)"
   ]
  },
  {
   "cell_type": "code",
   "execution_count": 51,
   "id": "6a13e0a8-f6b9-413a-8bfc-356fd383534c",
   "metadata": {},
   "outputs": [],
   "source": [
    "flagged_train = flag.predict(Train)\n",
    "flagged_test = flag.predict(Test)"
   ]
  },
  {
   "cell_type": "code",
   "execution_count": 26,
   "id": "dd2f0669-12ef-4a35-a738-9053364f272c",
   "metadata": {},
   "outputs": [
    {
     "data": {
      "text/html": [
       "<div>\n",
       "<style scoped>\n",
       "    .dataframe tbody tr th:only-of-type {\n",
       "        vertical-align: middle;\n",
       "    }\n",
       "\n",
       "    .dataframe tbody tr th {\n",
       "        vertical-align: top;\n",
       "    }\n",
       "\n",
       "    .dataframe thead th {\n",
       "        text-align: right;\n",
       "    }\n",
       "</style>\n",
       "<table border=\"1\" class=\"dataframe\">\n",
       "  <thead>\n",
       "    <tr style=\"text-align: right;\">\n",
       "      <th></th>\n",
       "      <th>Tweet_ID</th>\n",
       "      <th>tweet</th>\n",
       "      <th>flags</th>\n",
       "    </tr>\n",
       "  </thead>\n",
       "  <tbody>\n",
       "    <tr>\n",
       "      <th>0</th>\n",
       "      <td>ID_0095QL4S</td>\n",
       "      <td>because he was my boyfriend, and if I said no,...</td>\n",
       "      <td>Harmful_Traditional_practice</td>\n",
       "    </tr>\n",
       "    <tr>\n",
       "      <th>1</th>\n",
       "      <td>ID_00DREW5O</td>\n",
       "      <td>lol no, I'm telling you it's not legal. It's l...</td>\n",
       "      <td>Harmful_Traditional_practice</td>\n",
       "    </tr>\n",
       "    <tr>\n",
       "      <th>2</th>\n",
       "      <td>ID_00E9F5X9</td>\n",
       "      <td>Somalia's semi-autonomous Puntland region has ...</td>\n",
       "      <td>Harmful_Traditional_practice</td>\n",
       "    </tr>\n",
       "    <tr>\n",
       "      <th>3</th>\n",
       "      <td>ID_00G9OSKZ</td>\n",
       "      <td>University of Cape Coast students being robbed...</td>\n",
       "      <td>sexual_violence</td>\n",
       "    </tr>\n",
       "    <tr>\n",
       "      <th>4</th>\n",
       "      <td>ID_00HU96U6</td>\n",
       "      <td>\"Somebody came up behind him and stabbed him i...</td>\n",
       "      <td>economic_violence</td>\n",
       "    </tr>\n",
       "    <tr>\n",
       "      <th>5</th>\n",
       "      <td>ID_00IJ4SAW</td>\n",
       "      <td>Sending you hugs. I was raped by a boyfriend,s...</td>\n",
       "      <td>sexual_violence</td>\n",
       "    </tr>\n",
       "    <tr>\n",
       "      <th>6</th>\n",
       "      <td>ID_00J80GL8</td>\n",
       "      <td>he stabbed you with a knife</td>\n",
       "      <td>sexual_violence</td>\n",
       "    </tr>\n",
       "    <tr>\n",
       "      <th>7</th>\n",
       "      <td>ID_00L0E289</td>\n",
       "      <td>MY FKNG TEACHER HUMILIATED ME AGAIN SHE PREACH...</td>\n",
       "      <td>emotional_violence</td>\n",
       "    </tr>\n",
       "    <tr>\n",
       "      <th>8</th>\n",
       "      <td>ID_00N24MZN</td>\n",
       "      <td>1988 I was anally raped while I was asleep by ...</td>\n",
       "      <td>sexual_violence</td>\n",
       "    </tr>\n",
       "    <tr>\n",
       "      <th>9</th>\n",
       "      <td>ID_00V2TOUW</td>\n",
       "      <td>29/9/20:A rape victim was cremated without the...</td>\n",
       "      <td>sexual_violence</td>\n",
       "    </tr>\n",
       "    <tr>\n",
       "      <th>10</th>\n",
       "      <td>ID_00Y0NK0R</td>\n",
       "      <td>I currently work with a group of women that we...</td>\n",
       "      <td>sexual_violence</td>\n",
       "    </tr>\n",
       "    <tr>\n",
       "      <th>11</th>\n",
       "      <td>ID_010FD3LS</td>\n",
       "      <td>PS: Oops, I mean Vancouver Island. But THAT'S ...</td>\n",
       "      <td>sexual_violence</td>\n",
       "    </tr>\n",
       "    <tr>\n",
       "      <th>12</th>\n",
       "      <td>ID_012I9IOH</td>\n",
       "      <td>TW: SEXUAL ASSAULT  i did the opposite. i was ...</td>\n",
       "      <td>sexual_violence</td>\n",
       "    </tr>\n",
       "    <tr>\n",
       "      <th>13</th>\n",
       "      <td>ID_012NI8CJ</td>\n",
       "      <td>i stabbed my father in the arm with a knife be...</td>\n",
       "      <td>sexual_violence</td>\n",
       "    </tr>\n",
       "    <tr>\n",
       "      <th>14</th>\n",
       "      <td>ID_0145AH32</td>\n",
       "      <td>I enjoyed watching my boyfriend rape my four-m...</td>\n",
       "      <td>sexual_violence</td>\n",
       "    </tr>\n",
       "  </tbody>\n",
       "</table>\n",
       "</div>"
      ],
      "text/plain": [
       "       Tweet_ID                                              tweet  \\\n",
       "0   ID_0095QL4S  because he was my boyfriend, and if I said no,...   \n",
       "1   ID_00DREW5O  lol no, I'm telling you it's not legal. It's l...   \n",
       "2   ID_00E9F5X9  Somalia's semi-autonomous Puntland region has ...   \n",
       "3   ID_00G9OSKZ  University of Cape Coast students being robbed...   \n",
       "4   ID_00HU96U6  \"Somebody came up behind him and stabbed him i...   \n",
       "5   ID_00IJ4SAW  Sending you hugs. I was raped by a boyfriend,s...   \n",
       "6   ID_00J80GL8                        he stabbed you with a knife   \n",
       "7   ID_00L0E289  MY FKNG TEACHER HUMILIATED ME AGAIN SHE PREACH...   \n",
       "8   ID_00N24MZN  1988 I was anally raped while I was asleep by ...   \n",
       "9   ID_00V2TOUW  29/9/20:A rape victim was cremated without the...   \n",
       "10  ID_00Y0NK0R  I currently work with a group of women that we...   \n",
       "11  ID_010FD3LS  PS: Oops, I mean Vancouver Island. But THAT'S ...   \n",
       "12  ID_012I9IOH  TW: SEXUAL ASSAULT  i did the opposite. i was ...   \n",
       "13  ID_012NI8CJ  i stabbed my father in the arm with a knife be...   \n",
       "14  ID_0145AH32  I enjoyed watching my boyfriend rape my four-m...   \n",
       "\n",
       "                           flags  \n",
       "0   Harmful_Traditional_practice  \n",
       "1   Harmful_Traditional_practice  \n",
       "2   Harmful_Traditional_practice  \n",
       "3                sexual_violence  \n",
       "4              economic_violence  \n",
       "5                sexual_violence  \n",
       "6                sexual_violence  \n",
       "7             emotional_violence  \n",
       "8                sexual_violence  \n",
       "9                sexual_violence  \n",
       "10               sexual_violence  \n",
       "11               sexual_violence  \n",
       "12               sexual_violence  \n",
       "13               sexual_violence  \n",
       "14               sexual_violence  "
      ]
     },
     "execution_count": 26,
     "metadata": {},
     "output_type": "execute_result"
    }
   ],
   "source": [
    "flagged_test.head(15)"
   ]
  },
  {
   "cell_type": "code",
   "execution_count": 37,
   "id": "b6d917c6-e43e-4c5e-b3c7-df669531856f",
   "metadata": {},
   "outputs": [
    {
     "data": {
      "text/plain": [
       "sexual_violence                 0.500738\n",
       "Harmful_Traditional_practice    0.263462\n",
       "economic_violence               0.105577\n",
       "emotional_violence              0.066427\n",
       "Physical_violence               0.063796\n",
       "Name: flags, dtype: float64"
      ]
     },
     "execution_count": 37,
     "metadata": {},
     "output_type": "execute_result"
    }
   ],
   "source": [
    "flagged_test['flags'].value_counts(normalize=True)"
   ]
  },
  {
   "cell_type": "code",
   "execution_count": 38,
   "id": "0711ad54-8ccc-4a1e-8ce0-72f9dd94aef7",
   "metadata": {},
   "outputs": [
    {
     "data": {
      "text/plain": [
       "sexual_violence                 0.823405\n",
       "Physical_violence               0.149962\n",
       "emotional_violence              0.016419\n",
       "economic_violence               0.005473\n",
       "Harmful_Traditional_practice    0.004741\n",
       "Name: type, dtype: float64"
      ]
     },
     "execution_count": 38,
     "metadata": {},
     "output_type": "execute_result"
    }
   ],
   "source": [
    "flagged_train['type'].value_counts(normalize=True)"
   ]
  },
  {
   "cell_type": "code",
   "execution_count": 52,
   "id": "4fd62cf0-db55-44d7-b735-955af20b26cd",
   "metadata": {},
   "outputs": [],
   "source": [
    "from sklearn.preprocessing import OneHotEncoder\n",
    "one_hot = OneHotEncoder(drop='first')\n",
    "ntrain = flagged_train.shape[0]\n",
    "flag_data = pd.concat([flagged_train[['flags']],flagged_test[['flags']]])\n",
    "one_hot.fit(flag_data[['flags']])\n",
    "one_hot_data = one_hot.transform(flag_data[['flags']])\n",
    "one_hot_train = one_hot_data[:ntrain]\n",
    "one_hot_test = one_hot_data[ntrain:]"
   ]
  },
  {
   "cell_type": "code",
   "execution_count": 53,
   "id": "13dbb51f-b79a-4e8f-b8a7-ecb89b5ca061",
   "metadata": {},
   "outputs": [
    {
     "data": {
      "text/plain": [
       "<39650x4 sparse matrix of type '<class 'numpy.float64'>'\n",
       "\twith 39290 stored elements in Compressed Sparse Row format>"
      ]
     },
     "execution_count": 53,
     "metadata": {},
     "output_type": "execute_result"
    }
   ],
   "source": [
    "one_hot_train"
   ]
  },
  {
   "cell_type": "code",
   "execution_count": 55,
   "id": "345b3ddc-a17f-4c6c-97e5-6f5eb748dfdb",
   "metadata": {},
   "outputs": [],
   "source": [
    "from imblearn.over_sampling import SMOTE\n",
    "oversample = SMOTE()\n",
    "oversample.fit_resample"
   ]
  },
  {
   "cell_type": "code",
   "execution_count": 61,
   "id": "e43d6cbd-d0f0-40b9-b84d-33fd3781134f",
   "metadata": {},
   "outputs": [],
   "source": [
    "from scipy import sparse as sp\n",
    "train, target = oversample.fit_resample(sp.csr_matrix(sp.hstack((vectorized_train,one_hot_train))),y=target)\n",
    "test = sp.csr_matrix(sp.hstack((vectorized_test,one_hot_test)))"
   ]
  },
  {
   "cell_type": "code",
   "execution_count": 65,
   "id": "07f09d72-b756-4e75-ac16-d2e50c818770",
   "metadata": {},
   "outputs": [
    {
     "data": {
      "text/plain": [
       "((163240, 37286), (15581, 37286))"
      ]
     },
     "execution_count": 65,
     "metadata": {},
     "output_type": "execute_result"
    }
   ],
   "source": [
    "train.shape,test.shape"
   ]
  },
  {
   "cell_type": "code",
   "execution_count": 67,
   "id": "081534f8-8cc4-4a70-98ad-b2bd346fdd1b",
   "metadata": {},
   "outputs": [],
   "source": [
    "naive_model  = MultinomialNB()\n",
    "log_model = LogisticRegression(random_state=42)\n",
    "svc = SVC(kernel='linear', random_state=42)\n",
    "light = LGBMClassifier(random_state=42)\n",
    "rfc = RandomForestClassifier(random_state=42)\n",
    "gb = GradientBoostingClassifier(random_state=42)\n",
    "xgb = XGBClassifier(random_state=42)\n",
    "bag = BaggingClassifier(log_model, random_state=42)\n",
    "X_train, X_test, y_train, y_test = train_test_split(train,target, test_size=0.3, random_state=42)"
   ]
  },
  {
   "cell_type": "markdown",
   "id": "68ae72e4-576f-4afc-b5c0-cf9e0f19e6f8",
   "metadata": {},
   "source": [
    "Buiding models"
   ]
  },
  {
   "cell_type": "code",
   "execution_count": 68,
   "id": "f2945fd2-3ca3-4f35-a7ce-58196a308aa0",
   "metadata": {},
   "outputs": [
    {
     "name": "stdout",
     "output_type": "stream",
     "text": [
      "Accuracy:> 0.9938127909826023\n"
     ]
    }
   ],
   "source": [
    "naive_model.fit(X_train,y_train)\n",
    "nb_preds = naive_model.predict(X_test)\n",
    "print('Accuracy:>', accuracy_score(y_test,nb_preds))"
   ]
  },
  {
   "cell_type": "code",
   "execution_count": 29,
   "id": "66446bc4-7150-4f28-b591-fb330d0ca328",
   "metadata": {},
   "outputs": [
    {
     "name": "stdout",
     "output_type": "stream",
     "text": [
      "Accuracy:> 0.9998162215143347\n"
     ]
    },
    {
     "name": "stderr",
     "output_type": "stream",
     "text": [
      "C:\\Users\\MUHAMMAD\\anaconda3\\envs\\KerasEnvironment\\lib\\site-packages\\sklearn\\linear_model\\_logistic.py:763: ConvergenceWarning: lbfgs failed to converge (status=1):\n",
      "STOP: TOTAL NO. of ITERATIONS REACHED LIMIT.\n",
      "\n",
      "Increase the number of iterations (max_iter) or scale the data as shown in:\n",
      "    https://scikit-learn.org/stable/modules/preprocessing.html\n",
      "Please also refer to the documentation for alternative solver options:\n",
      "    https://scikit-learn.org/stable/modules/linear_model.html#logistic-regression\n",
      "  n_iter_i = _check_optimize_result(\n"
     ]
    }
   ],
   "source": [
    "log_model.fit(X_train,y_train)\n",
    "lg_preds = log_model.predict(X_test)\n",
    "print('Accuracy:>', accuracy_score(y_test,lg_preds))"
   ]
  },
  {
   "cell_type": "code",
   "execution_count": 99,
   "id": "f3b66e98-8ce7-40bf-9d27-62c9d36e0fe3",
   "metadata": {},
   "outputs": [
    {
     "name": "stdout",
     "output_type": "stream",
     "text": [
      "Train Score: 0.9999279409115475\n",
      "Accuracy:> 0.9990752416981925\n"
     ]
    }
   ],
   "source": [
    "light.fit(X_train,y_train)\n",
    "lt_preds = light.predict(X_test)\n",
    "lt_tr_preds = light.predict(X_train)\n",
    "print('Train Score:', accuracy_score(y_train,lt_tr_preds))\n",
    "print('Accuracy:>', accuracy_score(y_test,lt_preds))"
   ]
  },
  {
   "cell_type": "code",
   "execution_count": 64,
   "id": "aea7298d-8b4e-4d2e-8d76-b1d5adeee147",
   "metadata": {},
   "outputs": [
    {
     "name": "stdout",
     "output_type": "stream",
     "text": [
      "Train Score: 0.9997117636461899\n",
      "Accuracy:> 0.9978142076502732\n"
     ]
    }
   ],
   "source": [
    "svc.fit(X_train,y_train)\n",
    "sv_preds = svc.predict(X_test)\n",
    "sv_tr_preds = svc.predict(X_train)\n",
    "print('Train Score:', accuracy_score(y_train,sv_tr_preds))\n",
    "print('Accuracy:>', accuracy_score(y_test,sv_preds))"
   ]
  },
  {
   "cell_type": "code",
   "execution_count": null,
   "id": "2ac32a2a-2050-4737-9e4c-2efbf5488438",
   "metadata": {},
   "outputs": [],
   "source": []
  },
  {
   "cell_type": "code",
   "execution_count": 82,
   "id": "17c12d5e-3cd6-453e-80cf-4b9a86e5c2f2",
   "metadata": {},
   "outputs": [
    {
     "name": "stdout",
     "output_type": "stream",
     "text": [
      "Train Score: 0.9999639704557738\n",
      "Accuracy:> 0.9923497267759562\n"
     ]
    }
   ],
   "source": [
    "rfc.fit(X_train,y_train)\n",
    "rf_preds = rfc.predict(X_test)\n",
    "rf_tr_preds = rfc.predict(X_train)\n",
    "print('Train Score:', accuracy_score(y_train,rf_tr_preds))\n",
    "print('Accuracy:>', accuracy_score(y_test,rf_preds))"
   ]
  },
  {
   "cell_type": "code",
   "execution_count": 110,
   "id": "a06355c8-d28e-41a2-9adf-333a9c3e4100",
   "metadata": {},
   "outputs": [
    {
     "name": "stdout",
     "output_type": "stream",
     "text": [
      "Train Score: 0.9999639704557738\n",
      "Accuracy:> 0.9993274485077763\n"
     ]
    }
   ],
   "source": [
    "bag.fit(X_train,y_train)\n",
    "bg_preds = bag.predict(X_test)\n",
    "bg_tr_preds = bag.predict(X_train)\n",
    "print('Train Score:', accuracy_score(y_train,bg_tr_preds))\n",
    "print('Accuracy:>', accuracy_score(y_test,bg_preds))"
   ]
  },
  {
   "cell_type": "code",
   "execution_count": 107,
   "id": "6edba412-d6d6-49e6-9e94-6161c30281df",
   "metadata": {},
   "outputs": [],
   "source": [
    "#preds_nb = naive_model.predict(vectorized_test)\n",
    "#preds_lg = log_model.predict(vectorized_test)\n",
    "#preds_sv = svc.predict(vectorized_test)\n",
    "#preds_lt = light.predict(vectorized_test)\n",
    "#preds_rf = rfc.predict(vectorized_test)\n",
    "preds_bg = bag.predict(vectorized_test)"
   ]
  },
  {
   "cell_type": "markdown",
   "id": "bbc7576b-79ec-44b1-92b6-2cc85d745a34",
   "metadata": {},
   "source": [
    "Using kfold cross validation"
   ]
  },
  {
   "cell_type": "code",
   "execution_count": 69,
   "id": "28eb746f-732c-4520-b3ad-8d8a52933dc4",
   "metadata": {},
   "outputs": [],
   "source": [
    "from scipy.stats import mode\n",
    "def cross_val(model,X,y,test,random_state = 42,fold = 2):\n",
    "    tot_val_pred = []\n",
    "    tot_test_pred = np.zeros((fold,test.shape[0]))\n",
    "    y_copy = y.copy()\n",
    "    kf = KFold(n_splits=fold, random_state=random_state, shuffle=True)\n",
    "    i = 0\n",
    "    for train_index, test_index in kf.split(X):\n",
    "        X_train, X_test = X[train_index], X[test_index]\n",
    "        y_train, y_test = y[train_index], y[test_index]\n",
    "       \n",
    "        model.fit(X_train,y_train)\n",
    "        y_pred =  model.predict(X_test)\n",
    "        y_copy[test_index] = y_pred\n",
    "        print(accuracy_score(y_pred,y_test))\n",
    "        tot_test_pred[i] = model.predict(test)\n",
    "        i += 1\n",
    "    print('Val Accuracy', accuracy_score(y_copy,y))\n",
    "    tot_test_pred = mode(tot_test_pred,axis = 0)[0][0]\n",
    "    return y_copy,tot_test_pred\n",
    "        "
   ]
  },
  {
   "cell_type": "code",
   "execution_count": 441,
   "id": "cc61746d-2ae3-4a3d-99d4-c1a777f7c0b2",
   "metadata": {},
   "outputs": [
    {
     "name": "stdout",
     "output_type": "stream",
     "text": [
      "0.9636822194199244\n",
      "0.964186633039092\n",
      "0.9662042875157629\n",
      "0.9707440100882724\n",
      "0.9687263556116015\n",
      "0.9646910466582598\n",
      "0.969482976040353\n",
      "0.9692307692307692\n",
      "0.9699873896595208\n",
      "0.9639344262295082\n",
      "Val Accuracy 0.9670870113493064\n"
     ]
    }
   ],
   "source": [
    "val_pred, preds_nb = cross_val(naive_model, train,target, test, fold=10)"
   ]
  },
  {
   "cell_type": "code",
   "execution_count": 70,
   "id": "bedf4e96-8fcc-4639-bc83-3131bc21b100",
   "metadata": {},
   "outputs": [
    {
     "name": "stderr",
     "output_type": "stream",
     "text": [
      "C:\\Users\\MUHAMMAD\\anaconda3\\envs\\KerasEnvironment\\lib\\site-packages\\sklearn\\linear_model\\_logistic.py:763: ConvergenceWarning: lbfgs failed to converge (status=1):\n",
      "STOP: TOTAL NO. of ITERATIONS REACHED LIMIT.\n",
      "\n",
      "Increase the number of iterations (max_iter) or scale the data as shown in:\n",
      "    https://scikit-learn.org/stable/modules/preprocessing.html\n",
      "Please also refer to the documentation for alternative solver options:\n",
      "    https://scikit-learn.org/stable/modules/linear_model.html#logistic-regression\n",
      "  n_iter_i = _check_optimize_result(\n"
     ]
    },
    {
     "name": "stdout",
     "output_type": "stream",
     "text": [
      "0.9979171771624602\n"
     ]
    },
    {
     "name": "stderr",
     "output_type": "stream",
     "text": [
      "C:\\Users\\MUHAMMAD\\anaconda3\\envs\\KerasEnvironment\\lib\\site-packages\\sklearn\\linear_model\\_logistic.py:763: ConvergenceWarning: lbfgs failed to converge (status=1):\n",
      "STOP: TOTAL NO. of ITERATIONS REACHED LIMIT.\n",
      "\n",
      "Increase the number of iterations (max_iter) or scale the data as shown in:\n",
      "    https://scikit-learn.org/stable/modules/preprocessing.html\n",
      "Please also refer to the documentation for alternative solver options:\n",
      "    https://scikit-learn.org/stable/modules/linear_model.html#logistic-regression\n",
      "  n_iter_i = _check_optimize_result(\n"
     ]
    },
    {
     "name": "stdout",
     "output_type": "stream",
     "text": [
      "0.9980396961529037\n"
     ]
    },
    {
     "name": "stderr",
     "output_type": "stream",
     "text": [
      "C:\\Users\\MUHAMMAD\\anaconda3\\envs\\KerasEnvironment\\lib\\site-packages\\sklearn\\linear_model\\_logistic.py:763: ConvergenceWarning: lbfgs failed to converge (status=1):\n",
      "STOP: TOTAL NO. of ITERATIONS REACHED LIMIT.\n",
      "\n",
      "Increase the number of iterations (max_iter) or scale the data as shown in:\n",
      "    https://scikit-learn.org/stable/modules/preprocessing.html\n",
      "Please also refer to the documentation for alternative solver options:\n",
      "    https://scikit-learn.org/stable/modules/linear_model.html#logistic-regression\n",
      "  n_iter_i = _check_optimize_result(\n"
     ]
    },
    {
     "name": "stdout",
     "output_type": "stream",
     "text": [
      "0.9977333986767949\n"
     ]
    },
    {
     "name": "stderr",
     "output_type": "stream",
     "text": [
      "C:\\Users\\MUHAMMAD\\anaconda3\\envs\\KerasEnvironment\\lib\\site-packages\\sklearn\\linear_model\\_logistic.py:763: ConvergenceWarning: lbfgs failed to converge (status=1):\n",
      "STOP: TOTAL NO. of ITERATIONS REACHED LIMIT.\n",
      "\n",
      "Increase the number of iterations (max_iter) or scale the data as shown in:\n",
      "    https://scikit-learn.org/stable/modules/preprocessing.html\n",
      "Please also refer to the documentation for alternative solver options:\n",
      "    https://scikit-learn.org/stable/modules/linear_model.html#logistic-regression\n",
      "  n_iter_i = _check_optimize_result(\n"
     ]
    },
    {
     "name": "stdout",
     "output_type": "stream",
     "text": [
      "0.9974883606959078\n"
     ]
    },
    {
     "name": "stderr",
     "output_type": "stream",
     "text": [
      "C:\\Users\\MUHAMMAD\\anaconda3\\envs\\KerasEnvironment\\lib\\site-packages\\sklearn\\linear_model\\_logistic.py:763: ConvergenceWarning: lbfgs failed to converge (status=1):\n",
      "STOP: TOTAL NO. of ITERATIONS REACHED LIMIT.\n",
      "\n",
      "Increase the number of iterations (max_iter) or scale the data as shown in:\n",
      "    https://scikit-learn.org/stable/modules/preprocessing.html\n",
      "Please also refer to the documentation for alternative solver options:\n",
      "    https://scikit-learn.org/stable/modules/linear_model.html#logistic-regression\n",
      "  n_iter_i = _check_optimize_result(\n"
     ]
    },
    {
     "name": "stdout",
     "output_type": "stream",
     "text": [
      "0.9981009556481255\n"
     ]
    },
    {
     "name": "stderr",
     "output_type": "stream",
     "text": [
      "C:\\Users\\MUHAMMAD\\anaconda3\\envs\\KerasEnvironment\\lib\\site-packages\\sklearn\\linear_model\\_logistic.py:763: ConvergenceWarning: lbfgs failed to converge (status=1):\n",
      "STOP: TOTAL NO. of ITERATIONS REACHED LIMIT.\n",
      "\n",
      "Increase the number of iterations (max_iter) or scale the data as shown in:\n",
      "    https://scikit-learn.org/stable/modules/preprocessing.html\n",
      "Please also refer to the documentation for alternative solver options:\n",
      "    https://scikit-learn.org/stable/modules/linear_model.html#logistic-regression\n",
      "  n_iter_i = _check_optimize_result(\n"
     ]
    },
    {
     "name": "stdout",
     "output_type": "stream",
     "text": [
      "0.9977946581720166\n"
     ]
    },
    {
     "name": "stderr",
     "output_type": "stream",
     "text": [
      "C:\\Users\\MUHAMMAD\\anaconda3\\envs\\KerasEnvironment\\lib\\site-packages\\sklearn\\linear_model\\_logistic.py:763: ConvergenceWarning: lbfgs failed to converge (status=1):\n",
      "STOP: TOTAL NO. of ITERATIONS REACHED LIMIT.\n",
      "\n",
      "Increase the number of iterations (max_iter) or scale the data as shown in:\n",
      "    https://scikit-learn.org/stable/modules/preprocessing.html\n",
      "Please also refer to the documentation for alternative solver options:\n",
      "    https://scikit-learn.org/stable/modules/linear_model.html#logistic-regression\n",
      "  n_iter_i = _check_optimize_result(\n"
     ]
    },
    {
     "name": "stdout",
     "output_type": "stream",
     "text": [
      "0.9981009556481255\n"
     ]
    },
    {
     "name": "stderr",
     "output_type": "stream",
     "text": [
      "C:\\Users\\MUHAMMAD\\anaconda3\\envs\\KerasEnvironment\\lib\\site-packages\\sklearn\\linear_model\\_logistic.py:763: ConvergenceWarning: lbfgs failed to converge (status=1):\n",
      "STOP: TOTAL NO. of ITERATIONS REACHED LIMIT.\n",
      "\n",
      "Increase the number of iterations (max_iter) or scale the data as shown in:\n",
      "    https://scikit-learn.org/stable/modules/preprocessing.html\n",
      "Please also refer to the documentation for alternative solver options:\n",
      "    https://scikit-learn.org/stable/modules/linear_model.html#logistic-regression\n",
      "  n_iter_i = _check_optimize_result(\n"
     ]
    },
    {
     "name": "stdout",
     "output_type": "stream",
     "text": [
      "0.9977333986767949\n"
     ]
    },
    {
     "name": "stderr",
     "output_type": "stream",
     "text": [
      "C:\\Users\\MUHAMMAD\\anaconda3\\envs\\KerasEnvironment\\lib\\site-packages\\sklearn\\linear_model\\_logistic.py:763: ConvergenceWarning: lbfgs failed to converge (status=1):\n",
      "STOP: TOTAL NO. of ITERATIONS REACHED LIMIT.\n",
      "\n",
      "Increase the number of iterations (max_iter) or scale the data as shown in:\n",
      "    https://scikit-learn.org/stable/modules/preprocessing.html\n",
      "Please also refer to the documentation for alternative solver options:\n",
      "    https://scikit-learn.org/stable/modules/linear_model.html#logistic-regression\n",
      "  n_iter_i = _check_optimize_result(\n"
     ]
    },
    {
     "name": "stdout",
     "output_type": "stream",
     "text": [
      "0.9979784366576819\n"
     ]
    },
    {
     "name": "stderr",
     "output_type": "stream",
     "text": [
      "C:\\Users\\MUHAMMAD\\anaconda3\\envs\\KerasEnvironment\\lib\\site-packages\\sklearn\\linear_model\\_logistic.py:763: ConvergenceWarning: lbfgs failed to converge (status=1):\n",
      "STOP: TOTAL NO. of ITERATIONS REACHED LIMIT.\n",
      "\n",
      "Increase the number of iterations (max_iter) or scale the data as shown in:\n",
      "    https://scikit-learn.org/stable/modules/preprocessing.html\n",
      "Please also refer to the documentation for alternative solver options:\n",
      "    https://scikit-learn.org/stable/modules/linear_model.html#logistic-regression\n",
      "  n_iter_i = _check_optimize_result(\n"
     ]
    },
    {
     "name": "stdout",
     "output_type": "stream",
     "text": [
      "0.9984072531242343\n",
      "Val Accuracy 0.9979294290615045\n"
     ]
    }
   ],
   "source": [
    "val_pred, preds_lg = cross_val(log_model, train,target, test, fold=10)"
   ]
  },
  {
   "cell_type": "code",
   "execution_count": 29,
   "id": "d00e64d1-7976-4ea1-9233-3cac6e74e9c8",
   "metadata": {},
   "outputs": [
    {
     "name": "stdout",
     "output_type": "stream",
     "text": [
      "0.9979823455233291\n",
      "0.9974779319041615\n",
      "0.9987389659520807\n",
      "0.9989911727616646\n",
      "0.998234552332913\n",
      "0.9969735182849937\n",
      "0.9987389659520807\n",
      "0.9974779319041615\n",
      "0.998234552332913\n",
      "0.9987389659520807\n",
      "Val Accuracy 0.9981588902900378\n"
     ]
    }
   ],
   "source": [
    "val_pred, preds_sv = cross_val(svc,train,target, test, fold=10)"
   ]
  },
  {
   "cell_type": "code",
   "execution_count": 34,
   "id": "948db0ca-178a-4d5f-9ab9-3d59394f2598",
   "metadata": {},
   "outputs": [
    {
     "name": "stdout",
     "output_type": "stream",
     "text": [
      "0.9998774810095565\n",
      "0.9999387405047783\n",
      "1.0\n",
      "1.0\n",
      "1.0\n",
      "0.9998774810095565\n",
      "1.0\n",
      "0.9999387405047783\n",
      "0.9999387405047783\n",
      "0.9998162215143347\n",
      "Val Accuracy 0.9999387405047783\n"
     ]
    }
   ],
   "source": [
    "val_pred, preds_lt = cross_val(light, vectorized_train,target, vectorized_test, fold=10)"
   ]
  },
  {
   "cell_type": "code",
   "execution_count": 449,
   "id": "b264f9d0-ced4-4850-b3ca-4bf8fa2acfb2",
   "metadata": {},
   "outputs": [
    {
     "name": "stderr",
     "output_type": "stream",
     "text": [
      "C:\\Users\\MUHAMMAD\\anaconda3\\envs\\KerasEnvironment\\lib\\site-packages\\xgboost\\sklearn.py:1146: UserWarning: The use of label encoder in XGBClassifier is deprecated and will be removed in a future release. To remove this warning, do the following: 1) Pass option use_label_encoder=False when constructing XGBClassifier object; and 2) Encode your labels (y) as integers starting with 0, i.e. 0, 1, 2, ..., [num_class - 1].\n",
      "  warnings.warn(label_encoder_deprecation_msg, UserWarning)\n"
     ]
    },
    {
     "name": "stdout",
     "output_type": "stream",
     "text": [
      "[23:41:18] WARNING: C:/Users/Administrator/workspace/xgboost-win64_release_1.4.0/src/learner.cc:1095: Starting in XGBoost 1.3.0, the default evaluation metric used with the objective 'multi:softprob' was changed from 'merror' to 'mlogloss'. Explicitly set eval_metric if you'd like to restore the old behavior.\n",
      "1.0\n"
     ]
    },
    {
     "name": "stderr",
     "output_type": "stream",
     "text": [
      "C:\\Users\\MUHAMMAD\\anaconda3\\envs\\KerasEnvironment\\lib\\site-packages\\xgboost\\sklearn.py:1146: UserWarning: The use of label encoder in XGBClassifier is deprecated and will be removed in a future release. To remove this warning, do the following: 1) Pass option use_label_encoder=False when constructing XGBClassifier object; and 2) Encode your labels (y) as integers starting with 0, i.e. 0, 1, 2, ..., [num_class - 1].\n",
      "  warnings.warn(label_encoder_deprecation_msg, UserWarning)\n"
     ]
    },
    {
     "name": "stdout",
     "output_type": "stream",
     "text": [
      "[23:42:32] WARNING: C:/Users/Administrator/workspace/xgboost-win64_release_1.4.0/src/learner.cc:1095: Starting in XGBoost 1.3.0, the default evaluation metric used with the objective 'multi:softprob' was changed from 'merror' to 'mlogloss'. Explicitly set eval_metric if you'd like to restore the old behavior.\n",
      "0.9992433795712484\n"
     ]
    },
    {
     "name": "stderr",
     "output_type": "stream",
     "text": [
      "C:\\Users\\MUHAMMAD\\anaconda3\\envs\\KerasEnvironment\\lib\\site-packages\\xgboost\\sklearn.py:1146: UserWarning: The use of label encoder in XGBClassifier is deprecated and will be removed in a future release. To remove this warning, do the following: 1) Pass option use_label_encoder=False when constructing XGBClassifier object; and 2) Encode your labels (y) as integers starting with 0, i.e. 0, 1, 2, ..., [num_class - 1].\n",
      "  warnings.warn(label_encoder_deprecation_msg, UserWarning)\n"
     ]
    },
    {
     "name": "stdout",
     "output_type": "stream",
     "text": [
      "[23:44:02] WARNING: C:/Users/Administrator/workspace/xgboost-win64_release_1.4.0/src/learner.cc:1095: Starting in XGBoost 1.3.0, the default evaluation metric used with the objective 'multi:softprob' was changed from 'merror' to 'mlogloss'. Explicitly set eval_metric if you'd like to restore the old behavior.\n",
      "0.9989911727616646\n"
     ]
    },
    {
     "name": "stderr",
     "output_type": "stream",
     "text": [
      "C:\\Users\\MUHAMMAD\\anaconda3\\envs\\KerasEnvironment\\lib\\site-packages\\xgboost\\sklearn.py:1146: UserWarning: The use of label encoder in XGBClassifier is deprecated and will be removed in a future release. To remove this warning, do the following: 1) Pass option use_label_encoder=False when constructing XGBClassifier object; and 2) Encode your labels (y) as integers starting with 0, i.e. 0, 1, 2, ..., [num_class - 1].\n",
      "  warnings.warn(label_encoder_deprecation_msg, UserWarning)\n"
     ]
    },
    {
     "name": "stdout",
     "output_type": "stream",
     "text": [
      "[23:45:29] WARNING: C:/Users/Administrator/workspace/xgboost-win64_release_1.4.0/src/learner.cc:1095: Starting in XGBoost 1.3.0, the default evaluation metric used with the objective 'multi:softprob' was changed from 'merror' to 'mlogloss'. Explicitly set eval_metric if you'd like to restore the old behavior.\n",
      "0.9987389659520807\n"
     ]
    },
    {
     "name": "stderr",
     "output_type": "stream",
     "text": [
      "C:\\Users\\MUHAMMAD\\anaconda3\\envs\\KerasEnvironment\\lib\\site-packages\\xgboost\\sklearn.py:1146: UserWarning: The use of label encoder in XGBClassifier is deprecated and will be removed in a future release. To remove this warning, do the following: 1) Pass option use_label_encoder=False when constructing XGBClassifier object; and 2) Encode your labels (y) as integers starting with 0, i.e. 0, 1, 2, ..., [num_class - 1].\n",
      "  warnings.warn(label_encoder_deprecation_msg, UserWarning)\n"
     ]
    },
    {
     "name": "stdout",
     "output_type": "stream",
     "text": [
      "[23:46:45] WARNING: C:/Users/Administrator/workspace/xgboost-win64_release_1.4.0/src/learner.cc:1095: Starting in XGBoost 1.3.0, the default evaluation metric used with the objective 'multi:softprob' was changed from 'merror' to 'mlogloss'. Explicitly set eval_metric if you'd like to restore the old behavior.\n",
      "0.9997477931904162\n"
     ]
    },
    {
     "name": "stderr",
     "output_type": "stream",
     "text": [
      "C:\\Users\\MUHAMMAD\\anaconda3\\envs\\KerasEnvironment\\lib\\site-packages\\xgboost\\sklearn.py:1146: UserWarning: The use of label encoder in XGBClassifier is deprecated and will be removed in a future release. To remove this warning, do the following: 1) Pass option use_label_encoder=False when constructing XGBClassifier object; and 2) Encode your labels (y) as integers starting with 0, i.e. 0, 1, 2, ..., [num_class - 1].\n",
      "  warnings.warn(label_encoder_deprecation_msg, UserWarning)\n"
     ]
    },
    {
     "name": "stdout",
     "output_type": "stream",
     "text": [
      "[23:48:16] WARNING: C:/Users/Administrator/workspace/xgboost-win64_release_1.4.0/src/learner.cc:1095: Starting in XGBoost 1.3.0, the default evaluation metric used with the objective 'multi:softprob' was changed from 'merror' to 'mlogloss'. Explicitly set eval_metric if you'd like to restore the old behavior.\n",
      "0.9997477931904162\n"
     ]
    },
    {
     "name": "stderr",
     "output_type": "stream",
     "text": [
      "C:\\Users\\MUHAMMAD\\anaconda3\\envs\\KerasEnvironment\\lib\\site-packages\\xgboost\\sklearn.py:1146: UserWarning: The use of label encoder in XGBClassifier is deprecated and will be removed in a future release. To remove this warning, do the following: 1) Pass option use_label_encoder=False when constructing XGBClassifier object; and 2) Encode your labels (y) as integers starting with 0, i.e. 0, 1, 2, ..., [num_class - 1].\n",
      "  warnings.warn(label_encoder_deprecation_msg, UserWarning)\n"
     ]
    },
    {
     "name": "stdout",
     "output_type": "stream",
     "text": [
      "[23:49:44] WARNING: C:/Users/Administrator/workspace/xgboost-win64_release_1.4.0/src/learner.cc:1095: Starting in XGBoost 1.3.0, the default evaluation metric used with the objective 'multi:softprob' was changed from 'merror' to 'mlogloss'. Explicitly set eval_metric if you'd like to restore the old behavior.\n",
      "0.9994955863808322\n"
     ]
    },
    {
     "name": "stderr",
     "output_type": "stream",
     "text": [
      "C:\\Users\\MUHAMMAD\\anaconda3\\envs\\KerasEnvironment\\lib\\site-packages\\xgboost\\sklearn.py:1146: UserWarning: The use of label encoder in XGBClassifier is deprecated and will be removed in a future release. To remove this warning, do the following: 1) Pass option use_label_encoder=False when constructing XGBClassifier object; and 2) Encode your labels (y) as integers starting with 0, i.e. 0, 1, 2, ..., [num_class - 1].\n",
      "  warnings.warn(label_encoder_deprecation_msg, UserWarning)\n"
     ]
    },
    {
     "name": "stdout",
     "output_type": "stream",
     "text": [
      "[23:51:28] WARNING: C:/Users/Administrator/workspace/xgboost-win64_release_1.4.0/src/learner.cc:1095: Starting in XGBoost 1.3.0, the default evaluation metric used with the objective 'multi:softprob' was changed from 'merror' to 'mlogloss'. Explicitly set eval_metric if you'd like to restore the old behavior.\n",
      "0.9989911727616646\n"
     ]
    },
    {
     "name": "stderr",
     "output_type": "stream",
     "text": [
      "C:\\Users\\MUHAMMAD\\anaconda3\\envs\\KerasEnvironment\\lib\\site-packages\\xgboost\\sklearn.py:1146: UserWarning: The use of label encoder in XGBClassifier is deprecated and will be removed in a future release. To remove this warning, do the following: 1) Pass option use_label_encoder=False when constructing XGBClassifier object; and 2) Encode your labels (y) as integers starting with 0, i.e. 0, 1, 2, ..., [num_class - 1].\n",
      "  warnings.warn(label_encoder_deprecation_msg, UserWarning)\n"
     ]
    },
    {
     "name": "stdout",
     "output_type": "stream",
     "text": [
      "[23:52:44] WARNING: C:/Users/Administrator/workspace/xgboost-win64_release_1.4.0/src/learner.cc:1095: Starting in XGBoost 1.3.0, the default evaluation metric used with the objective 'multi:softprob' was changed from 'merror' to 'mlogloss'. Explicitly set eval_metric if you'd like to restore the old behavior.\n",
      "1.0\n"
     ]
    },
    {
     "name": "stderr",
     "output_type": "stream",
     "text": [
      "C:\\Users\\MUHAMMAD\\anaconda3\\envs\\KerasEnvironment\\lib\\site-packages\\xgboost\\sklearn.py:1146: UserWarning: The use of label encoder in XGBClassifier is deprecated and will be removed in a future release. To remove this warning, do the following: 1) Pass option use_label_encoder=False when constructing XGBClassifier object; and 2) Encode your labels (y) as integers starting with 0, i.e. 0, 1, 2, ..., [num_class - 1].\n",
      "  warnings.warn(label_encoder_deprecation_msg, UserWarning)\n"
     ]
    },
    {
     "name": "stdout",
     "output_type": "stream",
     "text": [
      "[23:54:07] WARNING: C:/Users/Administrator/workspace/xgboost-win64_release_1.4.0/src/learner.cc:1095: Starting in XGBoost 1.3.0, the default evaluation metric used with the objective 'multi:softprob' was changed from 'merror' to 'mlogloss'. Explicitly set eval_metric if you'd like to restore the old behavior.\n",
      "0.9992433795712484\n",
      "Val Accuracy 0.9994199243379571\n"
     ]
    }
   ],
   "source": [
    "val_pred, preds_xg = cross_val(xgb, train,target, test, fold=10)"
   ]
  },
  {
   "cell_type": "code",
   "execution_count": 458,
   "id": "08b9a48b-71a3-45fe-bf1d-18f723f3f0df",
   "metadata": {},
   "outputs": [
    {
     "name": "stdout",
     "output_type": "stream",
     "text": [
      "0.9949558638083228\n",
      "0.9962168978562421\n"
     ]
    },
    {
     "name": "stderr",
     "output_type": "stream",
     "text": [
      "C:\\Users\\MUHAMMAD\\anaconda3\\envs\\KerasEnvironment\\lib\\site-packages\\sklearn\\linear_model\\_logistic.py:763: ConvergenceWarning: lbfgs failed to converge (status=1):\n",
      "STOP: TOTAL NO. of ITERATIONS REACHED LIMIT.\n",
      "\n",
      "Increase the number of iterations (max_iter) or scale the data as shown in:\n",
      "    https://scikit-learn.org/stable/modules/preprocessing.html\n",
      "Please also refer to the documentation for alternative solver options:\n",
      "    https://scikit-learn.org/stable/modules/linear_model.html#logistic-regression\n",
      "  n_iter_i = _check_optimize_result(\n"
     ]
    },
    {
     "name": "stdout",
     "output_type": "stream",
     "text": [
      "0.9954602774274905\n",
      "0.994703656998739\n",
      "0.9949558638083228\n",
      "0.9949558638083228\n",
      "0.9959646910466583\n",
      "0.9944514501891552\n",
      "0.994703656998739\n",
      "0.9954602774274905\n",
      "Val Accuracy 0.9951828499369483\n"
     ]
    }
   ],
   "source": [
    "val_pred, preds_bg = cross_val(bag,train,target, test, fold=10)"
   ]
  },
  {
   "cell_type": "markdown",
   "id": "54c19192-4f35-40a8-8d15-e4791966ea9e",
   "metadata": {},
   "source": [
    "### Creating submission "
   ]
  },
  {
   "cell_type": "code",
   "execution_count": 443,
   "id": "d5f115a6-cb80-4f52-986e-0e827aa7041c",
   "metadata": {},
   "outputs": [],
   "source": [
    "ss['type'] = preds_nb\n",
    "ss['type'] = ss['type'].map(encode_map)\n",
    "ss[['Tweet_ID','type']].to_csv('./submissions/submission2_cv_nb.csv', index=False)"
   ]
  },
  {
   "cell_type": "code",
   "execution_count": 71,
   "id": "2b7b0fac-443f-4455-ac88-364295e1b33d",
   "metadata": {},
   "outputs": [],
   "source": [
    "ss['type'] = preds_lg\n",
    "ss['type'] = ss['type'].map(encode_map)\n",
    "ss[['Tweet_ID','type']].to_csv('./submissions/submission-smote-cv_lg.csv', index=False)"
   ]
  },
  {
   "cell_type": "code",
   "execution_count": 30,
   "id": "8564049a-9413-4a66-912a-42e81d4050ec",
   "metadata": {},
   "outputs": [],
   "source": [
    "ss['type'] = preds_sv\n",
    "ss['type'] = ss['type'].map(encode_map)\n",
    "ss[['Tweet_ID','type']].to_csv('./submissions/submission-cv_svc.csv', index=False)"
   ]
  },
  {
   "cell_type": "code",
   "execution_count": 35,
   "id": "de827912-5d19-4f88-897d-23bbf0ac77eb",
   "metadata": {},
   "outputs": [],
   "source": [
    "ss['type'] = preds_lt\n",
    "ss['type'] = ss['type'].map(encode_map)\n",
    "ss[['Tweet_ID','type']].to_csv('./submissions/submission6_lgbm.csv', index=False)"
   ]
  },
  {
   "cell_type": "code",
   "execution_count": 459,
   "id": "f60971bd-e777-4f04-bc72-33802214cfdb",
   "metadata": {},
   "outputs": [],
   "source": [
    "ss['type'] = preds_bg\n",
    "ss['type'] = ss['type'].map(encode_map)\n",
    "ss[['Tweet_ID','type']].to_csv('./submissions/submission2-_bag.csv', index=False)"
   ]
  },
  {
   "cell_type": "code",
   "execution_count": 450,
   "id": "0f719cba-ea2b-4550-b513-ecd3b92be54c",
   "metadata": {},
   "outputs": [],
   "source": [
    "ss['type'] = preds_xg\n",
    "ss['type'] = ss['type'].map(encode_map)\n",
    "ss[['Tweet_ID','type']].to_csv('./submissions/submission1-xgb.csv', index=False)"
   ]
  },
  {
   "cell_type": "code",
   "execution_count": 24,
   "id": "a261fd63-6744-44da-9d1f-05b92d29118e",
   "metadata": {},
   "outputs": [
    {
     "data": {
      "text/plain": [
       "array([4., 4., 4., ..., 4., 4., 4.])"
      ]
     },
     "execution_count": 24,
     "metadata": {},
     "output_type": "execute_result"
    }
   ],
   "source": [
    "preds_nb"
   ]
  },
  {
   "cell_type": "code",
   "execution_count": null,
   "id": "df59c3a9-1014-4d22-83a4-f67c17f4d574",
   "metadata": {},
   "outputs": [],
   "source": []
  }
 ],
 "metadata": {
  "kernelspec": {
   "display_name": "Python 3",
   "language": "python",
   "name": "python3"
  },
  "language_info": {
   "codemirror_mode": {
    "name": "ipython",
    "version": 3
   },
   "file_extension": ".py",
   "mimetype": "text/x-python",
   "name": "python",
   "nbconvert_exporter": "python",
   "pygments_lexer": "ipython3",
   "version": "3.8.5"
  }
 },
 "nbformat": 4,
 "nbformat_minor": 5
}
